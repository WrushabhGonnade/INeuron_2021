{
 "cells": [
  {
   "cell_type": "markdown",
   "id": "e052490d",
   "metadata": {},
   "source": [
    "# Programming Assignment_1"
   ]
  },
  {
   "cell_type": "markdown",
   "id": "66d79524",
   "metadata": {},
   "source": [
    "# Write a Python program to print &quot;Hello Python&quot;?"
   ]
  },
  {
   "cell_type": "code",
   "execution_count": 1,
   "id": "19eed054",
   "metadata": {},
   "outputs": [
    {
     "name": "stdout",
     "output_type": "stream",
     "text": [
      "Hello Python\n"
     ]
    }
   ],
   "source": [
    "print(\"Hello Python\")"
   ]
  },
  {
   "cell_type": "markdown",
   "id": "26293546",
   "metadata": {},
   "source": [
    "# Write a Python program to do arithmetical operations addition and division.?"
   ]
  },
  {
   "cell_type": "code",
   "execution_count": 11,
   "id": "61a785ae",
   "metadata": {},
   "outputs": [],
   "source": [
    "def operation():   \n",
    "    a=int(input(\"Enter First Number: \"))\n",
    "    b=int(input(\"Enter Second Number: \"))\n",
    "    try:\n",
    "        add=a+b\n",
    "        div=a/b\n",
    "        return \"Addition: \",add,\"Division: \",div\n",
    "    except:\n",
    "        print(\"Division Error\")"
   ]
  },
  {
   "cell_type": "code",
   "execution_count": 12,
   "id": "8e625576",
   "metadata": {},
   "outputs": [
    {
     "name": "stdout",
     "output_type": "stream",
     "text": [
      "Enter First Number: 12\n",
      "Enter Second Number: 6\n"
     ]
    },
    {
     "data": {
      "text/plain": [
       "('Addition: ', 18, 'Division: ', 2.0)"
      ]
     },
     "execution_count": 12,
     "metadata": {},
     "output_type": "execute_result"
    }
   ],
   "source": [
    "operation()"
   ]
  },
  {
   "cell_type": "markdown",
   "id": "66f5f9a2",
   "metadata": {},
   "source": [
    "# Write a Python program to find the area of a triangle?"
   ]
  },
  {
   "cell_type": "code",
   "execution_count": 13,
   "id": "f3b68a9b",
   "metadata": {},
   "outputs": [],
   "source": [
    "def triangle_area(b,h):\n",
    "    try:\n",
    "        area=(b*h)/2\n",
    "        return area\n",
    "    except Exception as e:\n",
    "        print(e)"
   ]
  },
  {
   "cell_type": "code",
   "execution_count": 16,
   "id": "78f08fe2",
   "metadata": {},
   "outputs": [
    {
     "data": {
      "text/plain": [
       "75.0"
      ]
     },
     "execution_count": 16,
     "metadata": {},
     "output_type": "execute_result"
    }
   ],
   "source": [
    "triangle_area(25,6)"
   ]
  },
  {
   "cell_type": "markdown",
   "id": "69882d3a",
   "metadata": {},
   "source": [
    "# Write a Python program to swap two variables?"
   ]
  },
  {
   "cell_type": "code",
   "execution_count": 19,
   "id": "60d41766",
   "metadata": {},
   "outputs": [],
   "source": [
    "def swap(a,b):\n",
    "    try:\n",
    "        print(\"Before swap a =\",a,\" b=\",b)\n",
    "        temp=a\n",
    "        a=b\n",
    "        b=temp\n",
    "        print(\"After swap a =\",a,\" b=\",b)\n",
    "    except Exception as e:\n",
    "        print(e)"
   ]
  },
  {
   "cell_type": "code",
   "execution_count": 20,
   "id": "4669a35e",
   "metadata": {},
   "outputs": [
    {
     "name": "stdout",
     "output_type": "stream",
     "text": [
      "Before swap a = 12  b= 4\n",
      "After swap a = 4  b= 12\n"
     ]
    }
   ],
   "source": [
    "swap(12,4)"
   ]
  },
  {
   "cell_type": "markdown",
   "id": "72fe60ba",
   "metadata": {},
   "source": [
    "# Write a Python program to generate a random number?"
   ]
  },
  {
   "cell_type": "code",
   "execution_count": 25,
   "id": "0f4c4ea3",
   "metadata": {},
   "outputs": [],
   "source": [
    "import random\n",
    "def random_generator():\n",
    "    print(random.randint(0,9))"
   ]
  },
  {
   "cell_type": "code",
   "execution_count": 28,
   "id": "a1a12db5",
   "metadata": {},
   "outputs": [
    {
     "name": "stdout",
     "output_type": "stream",
     "text": [
      "6\n"
     ]
    }
   ],
   "source": [
    "random_generator()"
   ]
  },
  {
   "cell_type": "code",
   "execution_count": null,
   "id": "5cc21f3d",
   "metadata": {},
   "outputs": [],
   "source": []
  }
 ],
 "metadata": {
  "kernelspec": {
   "display_name": "Python 3",
   "language": "python",
   "name": "python3"
  },
  "language_info": {
   "codemirror_mode": {
    "name": "ipython",
    "version": 3
   },
   "file_extension": ".py",
   "mimetype": "text/x-python",
   "name": "python",
   "nbconvert_exporter": "python",
   "pygments_lexer": "ipython3",
   "version": "3.9.4"
  }
 },
 "nbformat": 4,
 "nbformat_minor": 5
}
