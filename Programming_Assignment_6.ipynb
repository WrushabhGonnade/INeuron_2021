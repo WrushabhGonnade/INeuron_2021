{
 "cells": [
  {
   "cell_type": "markdown",
   "id": "f919a68d",
   "metadata": {},
   "source": [
    "# Programming_Assignment_6 "
   ]
  },
  {
   "cell_type": "markdown",
   "id": "45730482",
   "metadata": {},
   "source": [
    "# 1) Write a Python Program to Display Fibonacci Sequence Using Recursion?"
   ]
  },
  {
   "cell_type": "code",
   "execution_count": 7,
   "id": "ed2f1284",
   "metadata": {},
   "outputs": [
    {
     "name": "stdout",
     "output_type": "stream",
     "text": [
      "Fibonacci sequence:\n",
      "0\n",
      "1\n",
      "1\n",
      "2\n",
      "3\n"
     ]
    }
   ],
   "source": [
    "def cal_fibo(n):\n",
    "   if n <= 1:\n",
    "       return n\n",
    "   else:\n",
    "       return(cal_fibo(n-1) + cal_fibo(n-2))\n",
    "nterms = 5\n",
    "\n",
    "# check if the number of terms is valid\n",
    "if nterms <= 0:\n",
    "   print(\"Plese enter a positive integer\")\n",
    "else:\n",
    "   print(\"Fibonacci sequence:\")\n",
    "   for i in range(nterms):\n",
    "       print(cal_fibo(i))"
   ]
  },
  {
   "cell_type": "markdown",
   "id": "e99add5e",
   "metadata": {},
   "source": [
    "# 2) Write a Python Program to Find Factorial of Number Using Recursion?"
   ]
  },
  {
   "cell_type": "code",
   "execution_count": 4,
   "id": "5d4f6f79",
   "metadata": {},
   "outputs": [],
   "source": [
    "def fact(n):\n",
    "    if n==1:\n",
    "        return n\n",
    "    else:\n",
    "        fac=n*fact(n-1)\n",
    "        return fac"
   ]
  },
  {
   "cell_type": "code",
   "execution_count": 5,
   "id": "7d204713",
   "metadata": {},
   "outputs": [
    {
     "data": {
      "text/plain": [
       "120"
      ]
     },
     "execution_count": 5,
     "metadata": {},
     "output_type": "execute_result"
    }
   ],
   "source": [
    "fact(5)"
   ]
  },
  {
   "cell_type": "markdown",
   "id": "c9cc73a8",
   "metadata": {},
   "source": [
    "# 3) Write a Python Program to calculate your Body Mass Index?"
   ]
  },
  {
   "cell_type": "code",
   "execution_count": 8,
   "id": "231514c6",
   "metadata": {},
   "outputs": [],
   "source": [
    "def cal_BMI(weight,height):\n",
    "    BMI=weight/(height**2)\n",
    "    return (\"Your BMI is: \",BMI)"
   ]
  },
  {
   "cell_type": "code",
   "execution_count": 9,
   "id": "2c966349",
   "metadata": {},
   "outputs": [
    {
     "data": {
      "text/plain": [
       "('Your BMI is: ', 21.64532402096181)"
      ]
     },
     "execution_count": 9,
     "metadata": {},
     "output_type": "execute_result"
    }
   ],
   "source": [
    "cal_BMI(70,1.79832)"
   ]
  },
  {
   "cell_type": "markdown",
   "id": "87c27701",
   "metadata": {},
   "source": [
    "# 4) Write a Python Program to calculate the natural logarithm of any number?"
   ]
  },
  {
   "cell_type": "code",
   "execution_count": 12,
   "id": "4a095e78",
   "metadata": {},
   "outputs": [
    {
     "data": {
      "text/plain": [
       "2.302585092994046"
      ]
     },
     "execution_count": 12,
     "metadata": {},
     "output_type": "execute_result"
    }
   ],
   "source": [
    "import numpy as np\n",
    "np.log(10)"
   ]
  },
  {
   "cell_type": "markdown",
   "id": "165fd1b1",
   "metadata": {},
   "source": [
    "# 5) Write a Python Program for cube sum of first n natural numbers?"
   ]
  },
  {
   "cell_type": "code",
   "execution_count": 15,
   "id": "75ca034b",
   "metadata": {},
   "outputs": [],
   "source": [
    "def cube_sum(n):\n",
    "    sum=0\n",
    "    for i in range(0,n+1):\n",
    "        sum=(i*i*i)+sum\n",
    "    return sum"
   ]
  },
  {
   "cell_type": "code",
   "execution_count": 16,
   "id": "a2c79664",
   "metadata": {},
   "outputs": [
    {
     "data": {
      "text/plain": [
       "36"
      ]
     },
     "execution_count": 16,
     "metadata": {},
     "output_type": "execute_result"
    }
   ],
   "source": [
    "cube_sum(3)"
   ]
  },
  {
   "cell_type": "code",
   "execution_count": null,
   "id": "e64efb07",
   "metadata": {},
   "outputs": [],
   "source": []
  }
 ],
 "metadata": {
  "kernelspec": {
   "display_name": "Python 3 (ipykernel)",
   "language": "python",
   "name": "python3"
  },
  "language_info": {
   "codemirror_mode": {
    "name": "ipython",
    "version": 3
   },
   "file_extension": ".py",
   "mimetype": "text/x-python",
   "name": "python",
   "nbconvert_exporter": "python",
   "pygments_lexer": "ipython3",
   "version": "3.9.7"
  }
 },
 "nbformat": 4,
 "nbformat_minor": 5
}
