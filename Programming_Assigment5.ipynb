{
 "cells": [
  {
   "cell_type": "markdown",
   "id": "1266c3a9",
   "metadata": {},
   "source": [
    "# 1) Write a Python Program to Find LCM?"
   ]
  },
  {
   "cell_type": "code",
   "execution_count": 8,
   "id": "f4db6d8a",
   "metadata": {},
   "outputs": [],
   "source": [
    "def cal_lcm(x, y):  \n",
    "    '''Function to find lcm of two numbers''' \n",
    "    if x > y:  \n",
    "        greater = x  \n",
    "    else:  \n",
    "        greater = y  \n",
    "    while(True):  \n",
    "        if((greater % x == 0) and (greater % y == 0)):  \n",
    "            lcm = greater  \n",
    "            break  \n",
    "        greater += 1  \n",
    "    return lcm  "
   ]
  },
  {
   "cell_type": "code",
   "execution_count": 9,
   "id": "74660574",
   "metadata": {},
   "outputs": [
    {
     "data": {
      "text/plain": [
       "20"
      ]
     },
     "execution_count": 9,
     "metadata": {},
     "output_type": "execute_result"
    }
   ],
   "source": [
    "cal_lcm(20,5)"
   ]
  },
  {
   "cell_type": "markdown",
   "id": "2fe98212",
   "metadata": {},
   "source": [
    "# 2) Write a Python Program to Find HCF?"
   ]
  },
  {
   "cell_type": "code",
   "execution_count": 10,
   "id": "0570233e",
   "metadata": {},
   "outputs": [],
   "source": [
    "def cal_hcf(x, y):  \n",
    "    '''Functio to find hcf of two numbers''' \n",
    "    if x > y:  \n",
    "        smaller = y  \n",
    "    else:  \n",
    "        smaller = x  \n",
    "    for i in range(1,smaller + 1):  \n",
    "        if((x % i == 0) and (y % i == 0)):  \n",
    "            hcf = i  \n",
    "    return hcf  "
   ]
  },
  {
   "cell_type": "code",
   "execution_count": 11,
   "id": "da9da9a1",
   "metadata": {},
   "outputs": [
    {
     "data": {
      "text/plain": [
       "2"
      ]
     },
     "execution_count": 11,
     "metadata": {},
     "output_type": "execute_result"
    }
   ],
   "source": [
    "cal_hcf(10,4)"
   ]
  },
  {
   "cell_type": "markdown",
   "id": "19dd4612",
   "metadata": {},
   "source": [
    "# 3) Write a Python Program to Convert Decimal to Binary, Octal and Hexadecimal?"
   ]
  },
  {
   "cell_type": "code",
   "execution_count": 26,
   "id": "a3436226",
   "metadata": {},
   "outputs": [],
   "source": [
    "def decimal_binary(decimal_1): \n",
    "    '''The function to convert decimal to binary '''\n",
    "    decimal = int(decimal_1)  \n",
    "    return bin(decimal)  \n",
    " \n",
    "def decimal_octal(decimal_1):  \n",
    "    '''The function to convert decimal to octal '''\n",
    "    decimal = int(decimal_1) \n",
    "    return oct(decimal) \n",
    "\n",
    "def decimal_hexadecimal(decimal_1): \n",
    "    '''The function to convert decimal to hexadecimal '''\n",
    "    decimal = int(decimal_1)  \n",
    "    return hex(decimal)"
   ]
  },
  {
   "cell_type": "code",
   "execution_count": 27,
   "id": "776bbc7b",
   "metadata": {},
   "outputs": [
    {
     "data": {
      "text/plain": [
       "'0b1111'"
      ]
     },
     "execution_count": 27,
     "metadata": {},
     "output_type": "execute_result"
    }
   ],
   "source": [
    "decimal_binary(15)"
   ]
  },
  {
   "cell_type": "code",
   "execution_count": 28,
   "id": "4daf5f17",
   "metadata": {},
   "outputs": [
    {
     "data": {
      "text/plain": [
       "'0o17'"
      ]
     },
     "execution_count": 28,
     "metadata": {},
     "output_type": "execute_result"
    }
   ],
   "source": [
    "decimal_octal(15)"
   ]
  },
  {
   "cell_type": "code",
   "execution_count": 29,
   "id": "582a1d8f",
   "metadata": {},
   "outputs": [
    {
     "data": {
      "text/plain": [
       "'0xf'"
      ]
     },
     "execution_count": 29,
     "metadata": {},
     "output_type": "execute_result"
    }
   ],
   "source": [
    "decimal_hexadecimal(15)"
   ]
  },
  {
   "cell_type": "markdown",
   "id": "d1ca49bc",
   "metadata": {},
   "source": [
    "# 4) Write a Python Program To Find ASCII value of a character?"
   ]
  },
  {
   "cell_type": "code",
   "execution_count": 42,
   "id": "f3f18cf4",
   "metadata": {},
   "outputs": [],
   "source": [
    "def find_ascii(a):\n",
    "    b=str(a)\n",
    "    return ord(b)"
   ]
  },
  {
   "cell_type": "code",
   "execution_count": 44,
   "id": "573cdd45",
   "metadata": {},
   "outputs": [
    {
     "data": {
      "text/plain": [
       "75"
      ]
     },
     "execution_count": 44,
     "metadata": {},
     "output_type": "execute_result"
    }
   ],
   "source": [
    "find_ascii(K)"
   ]
  },
  {
   "cell_type": "markdown",
   "id": "1634d44e",
   "metadata": {},
   "source": [
    "# 5) Write a Python Program to Make a Simple Calculator with 4 basic mathematical operations?"
   ]
  },
  {
   "cell_type": "code",
   "execution_count": 55,
   "id": "614896c5",
   "metadata": {},
   "outputs": [
    {
     "name": "stdout",
     "output_type": "stream",
     "text": [
      "Enter first number: 12\n",
      "Enter second number: 4\n",
      "1. ADD\n",
      " 2. SUB\n",
      " 3. MUL\n",
      " 4. DIV\n",
      "Enter your choice: 1\n",
      "16\n"
     ]
    }
   ],
   "source": [
    "num1=int(input(\"Enter first number: \"))\n",
    "num2=int(input(\"Enter second number: \"))\n",
    "print(\"1. ADD\\n 2. SUB\\n 3. MUL\\n 4. DIV\")\n",
    "choice=int(input(\"Enter your choice: \"))\n",
    "\n",
    "if choice==1:\n",
    "    res=num1+num2\n",
    "if choice==2:\n",
    "    res=num1-num2\n",
    "if choice==3:\n",
    "    res=num1*num2\n",
    "if choice==4:\n",
    "    res=num1/num2\n",
    "    \n",
    "print(res)\n",
    "    "
   ]
  }
 ],
 "metadata": {
  "kernelspec": {
   "display_name": "Python 3 (ipykernel)",
   "language": "python",
   "name": "python3"
  },
  "language_info": {
   "codemirror_mode": {
    "name": "ipython",
    "version": 3
   },
   "file_extension": ".py",
   "mimetype": "text/x-python",
   "name": "python",
   "nbconvert_exporter": "python",
   "pygments_lexer": "ipython3",
   "version": "3.9.7"
  }
 },
 "nbformat": 4,
 "nbformat_minor": 5
}
