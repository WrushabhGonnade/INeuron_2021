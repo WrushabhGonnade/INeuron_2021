{
 "cells": [
  {
   "cell_type": "markdown",
   "id": "0f040fb0",
   "metadata": {},
   "source": [
    "# 1. Write a Python Program to find sum of array?"
   ]
  },
  {
   "cell_type": "code",
   "execution_count": 1,
   "id": "ebfcad17",
   "metadata": {},
   "outputs": [],
   "source": [
    "import numpy as np"
   ]
  },
  {
   "cell_type": "code",
   "execution_count": 3,
   "id": "adbe4dcb",
   "metadata": {},
   "outputs": [],
   "source": [
    "array=np.array([1,2,3,4])"
   ]
  },
  {
   "cell_type": "code",
   "execution_count": 4,
   "id": "7d7764df",
   "metadata": {},
   "outputs": [
    {
     "data": {
      "text/plain": [
       "array([1, 2, 3, 4])"
      ]
     },
     "execution_count": 4,
     "metadata": {},
     "output_type": "execute_result"
    }
   ],
   "source": [
    "array"
   ]
  },
  {
   "cell_type": "code",
   "execution_count": 9,
   "id": "dffa5fce",
   "metadata": {},
   "outputs": [],
   "source": [
    "def sum_array(arr):\n",
    "    sum=0\n",
    "    for i in arr:\n",
    "        sum=sum + i\n",
    "    return sum"
   ]
  },
  {
   "cell_type": "code",
   "execution_count": 12,
   "id": "d240042a",
   "metadata": {},
   "outputs": [
    {
     "data": {
      "text/plain": [
       "10"
      ]
     },
     "execution_count": 12,
     "metadata": {},
     "output_type": "execute_result"
    }
   ],
   "source": [
    "sum_array(array)"
   ]
  },
  {
   "cell_type": "markdown",
   "id": "a4405293",
   "metadata": {},
   "source": [
    "# 2.Write a Python Program to find largest element in an array?"
   ]
  },
  {
   "cell_type": "code",
   "execution_count": 15,
   "id": "8f314d98",
   "metadata": {},
   "outputs": [],
   "source": [
    "def cal_large(arr):\n",
    "    max=arr[0]\n",
    "    for i in range(1,len(arr)):\n",
    "        if arr[i]>max:\n",
    "            max=arr[i]\n",
    "    return max"
   ]
  },
  {
   "cell_type": "code",
   "execution_count": 20,
   "id": "55009cc3",
   "metadata": {},
   "outputs": [
    {
     "data": {
      "text/plain": [
       "8"
      ]
     },
     "execution_count": 20,
     "metadata": {},
     "output_type": "execute_result"
    }
   ],
   "source": [
    "cal_large(np.array([3,4,7,8,4]))"
   ]
  },
  {
   "cell_type": "markdown",
   "id": "84d3738c",
   "metadata": {},
   "source": [
    "# 3.Write a Python Program for array rotation?"
   ]
  },
  {
   "cell_type": "code",
   "execution_count": 23,
   "id": "5ff16867",
   "metadata": {},
   "outputs": [],
   "source": [
    "ar=[1,2,3,4,5,6,7]"
   ]
  },
  {
   "cell_type": "code",
   "execution_count": 63,
   "id": "fd2fabcc",
   "metadata": {},
   "outputs": [],
   "source": [
    "def rotate(arr,from_ele):\n",
    "    temp=[]\n",
    "    ori=[]\n",
    "    for i in range(from_ele-1,len(arr)):\n",
    "        temp.append(arr[i])\n",
    "    \n",
    "    for i in range(0,from_ele-1):\n",
    "        ori.append(arr[i])\n",
    "    temp=temp+ori\n",
    "    return temp\n",
    "        \n",
    "    \n",
    "        \n",
    "    \n",
    "    "
   ]
  },
  {
   "cell_type": "code",
   "execution_count": 64,
   "id": "6e541dc8",
   "metadata": {},
   "outputs": [
    {
     "data": {
      "text/plain": [
       "[4, 5, 6, 7, 1, 2, 3]"
      ]
     },
     "execution_count": 64,
     "metadata": {},
     "output_type": "execute_result"
    }
   ],
   "source": [
    "rotate(ar,4)"
   ]
  },
  {
   "cell_type": "markdown",
   "id": "9cafd1e5",
   "metadata": {},
   "source": [
    "# 4.Write a Python Program to Split the array and add the first part to the end?"
   ]
  },
  {
   "cell_type": "code",
   "execution_count": 69,
   "id": "0229f55e",
   "metadata": {},
   "outputs": [],
   "source": [
    "def split(arr,from_):\n",
    "    temp=[]\n",
    "    ori=[]\n",
    "    for i in range(from_-1,len(arr)):\n",
    "        temp.append(arr[i])\n",
    "    \n",
    "    for i in range(0,from_-1):\n",
    "        ori.append(arr[i])\n",
    "    temp=temp+ori\n",
    "    return temp\n",
    "        "
   ]
  },
  {
   "cell_type": "code",
   "execution_count": 70,
   "id": "7a3a9ffd",
   "metadata": {},
   "outputs": [
    {
     "data": {
      "text/plain": [
       "[3, 4, 5, 6, 7, 1, 2]"
      ]
     },
     "execution_count": 70,
     "metadata": {},
     "output_type": "execute_result"
    }
   ],
   "source": [
    "split(ar,3)"
   ]
  },
  {
   "cell_type": "markdown",
   "id": "d090c289",
   "metadata": {},
   "source": [
    "# 5.Write a Python Program to check if given array is Monotonic?"
   ]
  },
  {
   "cell_type": "code",
   "execution_count": 88,
   "id": "257f0385",
   "metadata": {},
   "outputs": [],
   "source": [
    "def monotonic_check(arr):\n",
    "    temp=1\n",
    "    for i in range(0,len(arr)-1):\n",
    "        if arr[i]<=arr[i+1]:\n",
    "            temp=1\n",
    "        else:\n",
    "            temp=0\n",
    "            break\n",
    "    if temp==1:\n",
    "        print(\"Monotonic...\")\n",
    "    else:\n",
    "        print(\"Non-Monotonic...\")\n",
    "    "
   ]
  },
  {
   "cell_type": "code",
   "execution_count": 79,
   "id": "ebcb1255",
   "metadata": {},
   "outputs": [
    {
     "name": "stdout",
     "output_type": "stream",
     "text": [
      "Non-Monotonic...\n"
     ]
    }
   ],
   "source": [
    "monotonic_check([1,3,2,5,3])"
   ]
  },
  {
   "cell_type": "code",
   "execution_count": 142,
   "id": "f0531616",
   "metadata": {},
   "outputs": [],
   "source": [
    "def monotonic_check(arr):\n",
    "    temp=1\n",
    "    le=len(arr)\n",
    "    if arr[0]<arr[le-1]:\n",
    "        for i in range(0,len(arr)-1):\n",
    "            if arr[i]<=arr[i+1]:\n",
    "                temp=1\n",
    "            else:\n",
    "                temp=0\n",
    "                break\n",
    "       \n",
    "    elif arr[le-1]<arr[0]:\n",
    "        for i in range(len(arr)-1,0,-1):\n",
    "            if arr[i]<=arr[i-1]:\n",
    "                temp=1\n",
    "            else:\n",
    "                temp=0\n",
    "    if temp==1:\n",
    "        print(\"Monotonic...\")\n",
    "    else:\n",
    "        print(\"Non-Monotonic...\")\n",
    "    "
   ]
  },
  {
   "cell_type": "code",
   "execution_count": 143,
   "id": "7b289245",
   "metadata": {},
   "outputs": [
    {
     "name": "stdout",
     "output_type": "stream",
     "text": [
      "Monotonic...\n"
     ]
    }
   ],
   "source": [
    "monotonic_check([5,4,3,2,1])"
   ]
  },
  {
   "cell_type": "code",
   "execution_count": 138,
   "id": "a43c54e5",
   "metadata": {},
   "outputs": [
    {
     "name": "stdout",
     "output_type": "stream",
     "text": [
      "Monotonic...\n"
     ]
    }
   ],
   "source": [
    "monotonic_check([1,2,3,4,5])"
   ]
  },
  {
   "cell_type": "code",
   "execution_count": 144,
   "id": "8cda463c",
   "metadata": {},
   "outputs": [
    {
     "name": "stdout",
     "output_type": "stream",
     "text": [
      "Non-Monotonic...\n"
     ]
    }
   ],
   "source": [
    "monotonic_check([1,2,5,3,2])"
   ]
  },
  {
   "cell_type": "code",
   "execution_count": null,
   "id": "7f59ed48",
   "metadata": {},
   "outputs": [],
   "source": []
  },
  {
   "cell_type": "code",
   "execution_count": null,
   "id": "0254ad03",
   "metadata": {},
   "outputs": [],
   "source": []
  }
 ],
 "metadata": {
  "kernelspec": {
   "display_name": "Python 3",
   "language": "python",
   "name": "python3"
  },
  "language_info": {
   "codemirror_mode": {
    "name": "ipython",
    "version": 3
   },
   "file_extension": ".py",
   "mimetype": "text/x-python",
   "name": "python",
   "nbconvert_exporter": "python",
   "pygments_lexer": "ipython3",
   "version": "3.9.4"
  }
 },
 "nbformat": 4,
 "nbformat_minor": 5
}
