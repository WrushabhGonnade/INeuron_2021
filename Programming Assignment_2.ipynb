{
 "cells": [
  {
   "cell_type": "markdown",
   "id": "b4e96af8",
   "metadata": {},
   "source": [
    "# Programming Assignment_2"
   ]
  },
  {
   "cell_type": "markdown",
   "id": "18c59cbf",
   "metadata": {},
   "source": [
    "# 1. Write a Python program to convert kilometers to miles?"
   ]
  },
  {
   "cell_type": "code",
   "execution_count": 1,
   "id": "c3557b5e",
   "metadata": {},
   "outputs": [],
   "source": [
    "def km_to_miles():\n",
    "    try:\n",
    "        km=int(input(\"Enter Distance/Length in Kilometers: \"))\n",
    "        miles=km*0.621371\n",
    "        return miles\n",
    "    except Exception as e:\n",
    "        print(e)"
   ]
  },
  {
   "cell_type": "code",
   "execution_count": 2,
   "id": "aec21f34",
   "metadata": {},
   "outputs": [
    {
     "name": "stdout",
     "output_type": "stream",
     "text": [
      "Enter Distance/Length in Kilometers: 12\n"
     ]
    },
    {
     "data": {
      "text/plain": [
       "7.4564520000000005"
      ]
     },
     "execution_count": 2,
     "metadata": {},
     "output_type": "execute_result"
    }
   ],
   "source": [
    "km_to_miles()"
   ]
  },
  {
   "cell_type": "markdown",
   "id": "9d247e66",
   "metadata": {},
   "source": [
    "# 2. Write a Python program to convert Celsius to Fahrenheit?"
   ]
  },
  {
   "cell_type": "code",
   "execution_count": 5,
   "id": "8688a4b1",
   "metadata": {},
   "outputs": [],
   "source": [
    "def temperture_convert():\n",
    "    try:\n",
    "        C=int(input(\"Enter temperature in Celsius: \"))\n",
    "        F=(C*(9/5))+32\n",
    "        return F\n",
    "    except Exception as e:\n",
    "        print(e)"
   ]
  },
  {
   "cell_type": "code",
   "execution_count": 6,
   "id": "a97fae95",
   "metadata": {},
   "outputs": [
    {
     "name": "stdout",
     "output_type": "stream",
     "text": [
      "Enter temperature in Celsius: 37\n"
     ]
    },
    {
     "data": {
      "text/plain": [
       "98.60000000000001"
      ]
     },
     "execution_count": 6,
     "metadata": {},
     "output_type": "execute_result"
    }
   ],
   "source": [
    "temperture_convert()"
   ]
  },
  {
   "cell_type": "markdown",
   "id": "5419f452",
   "metadata": {},
   "source": [
    "# 3. Write a Python program to display calendar?"
   ]
  },
  {
   "cell_type": "code",
   "execution_count": 13,
   "id": "19bb96e7",
   "metadata": {},
   "outputs": [],
   "source": [
    "import calendar\n",
    "def calendar_show():\n",
    "    try:\n",
    "        yyyy=int(input(\"Enter Year in YYYY Format: \"))\n",
    "        mm=int(input(\"Enter Month in MM Format: \"))\n",
    "        print(calendar.month(yyyy,mm))\n",
    "    except Exception as e:\n",
    "        print(e)\n",
    "    "
   ]
  },
  {
   "cell_type": "code",
   "execution_count": 15,
   "id": "35bb3bc8",
   "metadata": {},
   "outputs": [
    {
     "name": "stdout",
     "output_type": "stream",
     "text": [
      "Enter Year in YYYY Format: 2014\n",
      "Enter Month in MM Format: 06\n",
      "     June 2014\n",
      "Mo Tu We Th Fr Sa Su\n",
      "                   1\n",
      " 2  3  4  5  6  7  8\n",
      " 9 10 11 12 13 14 15\n",
      "16 17 18 19 20 21 22\n",
      "23 24 25 26 27 28 29\n",
      "30\n",
      "\n"
     ]
    }
   ],
   "source": [
    "calendar_show()"
   ]
  },
  {
   "cell_type": "markdown",
   "id": "2c417b84",
   "metadata": {},
   "source": [
    "# 4. Write a Python program to solve quadratic equation?"
   ]
  },
  {
   "cell_type": "code",
   "execution_count": 30,
   "id": "e49cebf4",
   "metadata": {},
   "outputs": [],
   "source": [
    "import cmath\n",
    "def quadr():\n",
    "    try:\n",
    "        a=int(input(\"Enter value of a: \"))\n",
    "        b=int(input(\"Enter value of b: \"))\n",
    "        c=int(input(\"Enter value of c: \"))\n",
    "        print(\"Problem statement will be: {0}x2+{1}x+{2}=0\".format(a,b,c))\n",
    "        d=(b**2)-(4*a*c)\n",
    "        sq_d=cmath.sqrt(d)\n",
    "        sol1=(-b+sq_d)/(2*a)\n",
    "        sol2=(-b-sq_d)/(2*a)\n",
    "        print(\"Solutions are {0} and {1}\".format(sol1,sol2))\n",
    "    except Exception as e:\n",
    "        print(e)"
   ]
  },
  {
   "cell_type": "code",
   "execution_count": 36,
   "id": "f33378e1",
   "metadata": {},
   "outputs": [
    {
     "name": "stdout",
     "output_type": "stream",
     "text": [
      "Enter value of a: 1\n",
      "Enter value of b: 5\n",
      "Enter value of c: 6\n",
      "Problem statement will be: 1x2+5x+6=0\n",
      "Solutions are (-2+0j) and (-3+0j)\n"
     ]
    }
   ],
   "source": [
    "quadr()"
   ]
  },
  {
   "cell_type": "markdown",
   "id": "004c6800",
   "metadata": {},
   "source": [
    "# 5.Write a Python program to swap two variables without temp variable?"
   ]
  },
  {
   "cell_type": "code",
   "execution_count": 37,
   "id": "82146428",
   "metadata": {},
   "outputs": [],
   "source": [
    "def swap():\n",
    "        a=int(input(\"Enter value of a: \"))\n",
    "        b=int(input(\"Enter value of b: \"))\n",
    "        try:\n",
    "            a=a+b\n",
    "            b=a-b\n",
    "            a=a-b\n",
    "            print(\"a={0} and b={1}\".format(a,b))\n",
    "        except Exception as e:\n",
    "            print(e)"
   ]
  },
  {
   "cell_type": "code",
   "execution_count": 38,
   "id": "51fe00fe",
   "metadata": {},
   "outputs": [
    {
     "name": "stdout",
     "output_type": "stream",
     "text": [
      "Enter value of a: 3\n",
      "Enter value of b: 4\n",
      "a=4 and b=3\n"
     ]
    }
   ],
   "source": [
    "swap()"
   ]
  },
  {
   "cell_type": "code",
   "execution_count": null,
   "id": "08937390",
   "metadata": {},
   "outputs": [],
   "source": []
  }
 ],
 "metadata": {
  "kernelspec": {
   "display_name": "Python 3",
   "language": "python",
   "name": "python3"
  },
  "language_info": {
   "codemirror_mode": {
    "name": "ipython",
    "version": 3
   },
   "file_extension": ".py",
   "mimetype": "text/x-python",
   "name": "python",
   "nbconvert_exporter": "python",
   "pygments_lexer": "ipython3",
   "version": "3.9.4"
  }
 },
 "nbformat": 4,
 "nbformat_minor": 5
}
